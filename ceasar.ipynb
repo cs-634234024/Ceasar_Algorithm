{
  "nbformat": 4,
  "nbformat_minor": 0,
  "metadata": {
    "colab": {
      "provenance": [],
      "authorship_tag": "ABX9TyNTmQi/M8usVuOz0m8fjfsS",
      "include_colab_link": true
    },
    "kernelspec": {
      "name": "python3",
      "display_name": "Python 3"
    },
    "language_info": {
      "name": "python"
    }
  },
  "cells": [
    {
      "cell_type": "markdown",
      "metadata": {
        "id": "view-in-github",
        "colab_type": "text"
      },
      "source": [
        "<a href=\"https://colab.research.google.com/github/cs-634234024/Ceasar_Algorithm/blob/main/ceasar.ipynb\" target=\"_parent\"><img src=\"https://colab.research.google.com/assets/colab-badge.svg\" alt=\"Open In Colab\"/></a>"
      ]
    },
    {
      "cell_type": "code",
      "execution_count": 53,
      "metadata": {
        "colab": {
          "base_uri": "https://localhost:8080/"
        },
        "id": "tALjZi8YA_r2",
        "outputId": "b07278c3-efe6-4ff0-cc74-de736741ce3a"
      },
      "outputs": [
        {
          "output_type": "stream",
          "name": "stdout",
          "text": [
            "input your plaintext : HARISSADEEN\n",
            "input your keyword (number) : 2\n",
            "[9, 2, 19, 10, 20, 20, 2, 5, 6, 6, 15]\n",
            "[7, 0, 17, 8, 18, 18, 0, 3, 4, 4, 13]\n",
            " CipherText :  jctkuucfggp\n",
            " decode :  harissadeen\n"
          ]
        }
      ],
      "source": [
        "table = [chr(i) for i in range(ord('a'), ord('z') + 1)]\n",
        "p = []\n",
        "lendecode = []\n",
        "sum = []\n",
        "sum2 = []\n",
        "ciphertext = \"\"\n",
        "decode = \"\"\n",
        "\n",
        "# encrypt\n",
        "\n",
        "plaintext = input(\"input your plaintext : \").lower()\n",
        "keyword = int(input(\"input your keyword (number) : \"))\n",
        "\n",
        "for i in plaintext :\n",
        "  for j in range(len(table)):\n",
        "    if (i == table[j]):\n",
        "      p.append(j)\n",
        "\n",
        "for k in range(len(p)):\n",
        "   sum.append(p[k]+keyword)\n",
        "   if sum[k] >= 26:\n",
        "     sum[k]  -= 26\n",
        "\n",
        "for n in sum:\n",
        "  ciphertext+=table[n]\n",
        "\n",
        "# decrypt\n",
        "\n",
        "for i in ciphertext :\n",
        "  for j in range(len(table)):\n",
        "    if (i == table[j]):\n",
        "      lendecode.append(j)\n",
        "\n",
        "for a in range(len(lendecode)):\n",
        "   sum2.append(lendecode[a]-keyword)\n",
        "   if sum2[a] < 0:\n",
        "     sum2[a]  += 26\n",
        "\n",
        "for n in sum2:\n",
        "  decode+=table[n]\n",
        "\n",
        "\n",
        "\n",
        "# print(p)\n",
        "print(lendecode)\n",
        "# print(sum)\n",
        "print(sum2)\n",
        "print(\" CipherText : \",ciphertext)\n",
        "print(\" decode : \",decode)\n",
        "\n"
      ]
    },
    {
      "cell_type": "code",
      "source": [],
      "metadata": {
        "id": "02AaKu7iBucE"
      },
      "execution_count": null,
      "outputs": []
    }
  ]
}